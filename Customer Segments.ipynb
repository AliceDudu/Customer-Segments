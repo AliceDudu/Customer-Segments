{
 "cells": [
  {
   "cell_type": "code",
   "execution_count": 1,
   "metadata": {
    "collapsed": true
   },
   "outputs": [],
   "source": [
    "# Import libraries necessary for this project\n",
    "import matplotlib.pyplot as plt\n",
    "import matplotlib.cm as cm\n",
    "import pandas as pd\n",
    "import numpy as np\n",
    "from sklearn.decomposition import pca"
   ]
  },
  {
   "cell_type": "code",
   "execution_count": 2,
   "metadata": {
    "collapsed": true
   },
   "outputs": [],
   "source": [
    "def pca_results(good_data, pca):\n",
    "\t'''\n",
    "\tCreate a DataFrame of the PCA results\n",
    "\tIncludes dimension feature weights and explained variance\n",
    "\tVisualizes the PCA results\n",
    "\t'''\n",
    "\n",
    "\t# Dimension indexing\n",
    "\tdimensions = dimensions = ['Dimension {}'.format(i) for i in range(1,len(pca.components_)+1)]\n",
    "\n",
    "\t# PCA components\n",
    "\tcomponents = pd.DataFrame(np.round(pca.components_, 4), columns = good_data.keys())\n",
    "\tcomponents.index = dimensions\n",
    "\n",
    "\t# PCA explained variance\n",
    "\tratios = pca.explained_variance_ratio_.reshape(len(pca.components_), 1)\n",
    "\tvariance_ratios = pd.DataFrame(np.round(ratios, 4), columns = ['Explained Variance'])\n",
    "\tvariance_ratios.index = dimensions\n",
    "\n",
    "\t# Create a bar plot visualization\n",
    "\tfig, ax = plt.subplots(figsize = (14,8))\n",
    "\n",
    "\t# Plot the feature weights as a function of the components\n",
    "\tcomponents.plot(ax = ax, kind = 'bar');\n",
    "\tax.set_ylabel(\"Feature Weights\")\n",
    "\tax.set_xticklabels(dimensions, rotation=0)\n",
    "\n",
    "\n",
    "\t# Display the explained variance ratios\n",
    "\tfor i, ev in enumerate(pca.explained_variance_ratio_):\n",
    "\t\tax.text(i-0.40, ax.get_ylim()[1] + 0.05, \"Explained Variance\\n          %.4f\"%(ev))\n",
    "\n",
    "\t# Return a concatenated DataFrame\n",
    "\treturn pd.concat([variance_ratios, components], axis = 1)\n"
   ]
  },
  {
   "cell_type": "code",
   "execution_count": 3,
   "metadata": {
    "collapsed": true
   },
   "outputs": [],
   "source": [
    "def cluster_results(reduced_data, preds, centers, pca_samples):\n",
    "\t'''\n",
    "\tVisualizes the PCA-reduced cluster data in two dimensions\n",
    "\tAdds cues for cluster centers and student-selected sample data\n",
    "\t'''\n",
    "\n",
    "\tpredictions = pd.DataFrame(preds, columns = ['Cluster'])\n",
    "\tplot_data = pd.concat([predictions, reduced_data], axis = 1)\n",
    "\n",
    "\t# Generate the cluster plot\n",
    "\tfig, ax = plt.subplots(figsize = (14,8))\n",
    "\n",
    "\t# Color map\n",
    "\tcmap = cm.get_cmap('gist_rainbow')\n",
    "\n",
    "\t# Color the points based on assigned cluster\n",
    "\tfor i, cluster in plot_data.groupby('Cluster'):   \n",
    "\t    cluster.plot(ax = ax, kind = 'scatter', x = 'Dimension 1', y = 'Dimension 2', \\\n",
    "\t                 color = cmap((i)*1.0/(len(centers)-1)), label = 'Cluster %i'%(i), s=30);\n",
    "\n",
    "\t# Plot centers with indicators\n",
    "\tfor i, c in enumerate(centers):\n",
    "\t    ax.scatter(x = c[0], y = c[1], color = 'white', edgecolors = 'black', \\\n",
    "\t               alpha = 1, linewidth = 2, marker = 'o', s=200);\n",
    "\t    ax.scatter(x = c[0], y = c[1], marker='$%d$'%(i), alpha = 1, s=100);\n",
    "\n",
    "\t# Plot transformed sample points \n",
    "\tax.scatter(x = pca_samples[:,0], y = pca_samples[:,1], \\\n",
    "\t           s = 150, linewidth = 4, color = 'black', marker = 'x');\n",
    "\n",
    "\t# Set plot title\n",
    "\tax.set_title(\"Cluster Learning on PCA-Reduced Data - Centroids Marked by Number\\nTransformed Sample Data Marked by Black Cross\");\n",
    "\n"
   ]
  },
  {
   "cell_type": "code",
   "execution_count": 198,
   "metadata": {
    "collapsed": true
   },
   "outputs": [],
   "source": [
    "def channel_results(reduced_data, outliers, pca_samples):\n",
    "\t'''\n",
    "\tVisualizes the PCA-reduced cluster data in two dimensions using the full dataset\n",
    "\tData is labeled by \"Channel\" and cues added for student-selected sample data\n",
    "\t'''\n",
    "\n",
    "\t# Check that the dataset is loadable\n",
    "\ttry:\n",
    "\t    full_data = pd.read_csv(\"Wholesale customers data.csv\")\n",
    "\texcept:\n",
    "\t    print \"Dataset could not be loaded. Is the file missing?\"\n",
    "\t    return False\n",
    "\n",
    "\t# Create the Channel DataFrame\n",
    "\tchannel = pd.DataFrame(full_data['Channel'], columns = ['Channel'])\n",
    "\tchannel = channel.drop(channel.index[outliers]).reset_index(drop = True)\n",
    "\tlabeled = pd.concat([reduced_data, channel], axis = 1)\n",
    "\t\n",
    "\t# Generate the cluster plot\n",
    "\tfig, ax = plt.subplots(figsize = (14,8))\n",
    "\n",
    "\t# Color map\n",
    "\tcmap = cm.get_cmap('gist_rainbow')\n",
    "\n",
    "\t# Color the points based on assigned Channel\n",
    "\tlabels = ['Hotel/Restaurant/Cafe', 'Retailer']\n",
    "\tgrouped = labeled.groupby('Channel')\n",
    "\tfor i, channel in grouped:   \n",
    "\t    channel.plot(ax = ax, kind = 'scatter', x = 'Dimension 1', y = 'Dimension 2', \\\n",
    "\t                 color = cmap((i-1)*1.0/2), label = labels[i-1], s=30);\n",
    "\t    \n",
    "\t# Plot transformed sample points   \n",
    "\tfor i, sample in enumerate(pca_samples):\n",
    "\t\tax.scatter(x = sample[0], y = sample[1], \\\n",
    "\t           s = 200, linewidth = 3, color = 'black', marker = 'o', facecolors = 'none');\n",
    "\t\tax.scatter(x = sample[0]+0.25, y = sample[1]+0.3, marker='$%d$'%(i), alpha = 1, s=125);\n",
    "\n",
    "\t# Set plot title\n",
    "\tax.set_title(\"PCA-Reduced Data Labeled by 'Channel'\\nTransformed Sample Data Circled\");\n"
   ]
  },
  {
   "cell_type": "code",
   "execution_count": 5,
   "metadata": {
    "collapsed": true
   },
   "outputs": [],
   "source": [
    "from IPython.display import display # Allows the use of display() for DataFrames"
   ]
  },
  {
   "cell_type": "code",
   "execution_count": 6,
   "metadata": {
    "collapsed": true
   },
   "outputs": [],
   "source": [
    "# Show matplotlib plots inline (nicely formatted in the notebook)\n",
    "%matplotlib inline"
   ]
  },
  {
   "cell_type": "markdown",
   "metadata": {},
   "source": [
    "## 读入数据"
   ]
  },
  {
   "cell_type": "code",
   "execution_count": 45,
   "metadata": {
    "collapsed": false
   },
   "outputs": [],
   "source": [
    "data = pd.read_csv(\"Wholesale customers data.csv\")"
   ]
  },
  {
   "cell_type": "code",
   "execution_count": 46,
   "metadata": {
    "collapsed": false
   },
   "outputs": [
    {
     "data": {
      "text/html": [
       "<div>\n",
       "<table border=\"1\" class=\"dataframe\">\n",
       "  <thead>\n",
       "    <tr style=\"text-align: right;\">\n",
       "      <th></th>\n",
       "      <th>Channel</th>\n",
       "      <th>Region</th>\n",
       "      <th>Fresh</th>\n",
       "      <th>Milk</th>\n",
       "      <th>Grocery</th>\n",
       "      <th>Frozen</th>\n",
       "      <th>Detergents_Paper</th>\n",
       "      <th>Delicassen</th>\n",
       "    </tr>\n",
       "  </thead>\n",
       "  <tbody>\n",
       "    <tr>\n",
       "      <th>0</th>\n",
       "      <td>2</td>\n",
       "      <td>3</td>\n",
       "      <td>12669</td>\n",
       "      <td>9656</td>\n",
       "      <td>7561</td>\n",
       "      <td>214</td>\n",
       "      <td>2674</td>\n",
       "      <td>1338</td>\n",
       "    </tr>\n",
       "  </tbody>\n",
       "</table>\n",
       "</div>"
      ],
      "text/plain": [
       "   Channel  Region  Fresh  Milk  Grocery  Frozen  Detergents_Paper  Delicassen\n",
       "0        2       3  12669  9656     7561     214              2674        1338"
      ]
     },
     "execution_count": 46,
     "metadata": {},
     "output_type": "execute_result"
    }
   ],
   "source": [
    "data.head(1)"
   ]
  },
  {
   "cell_type": "code",
   "execution_count": 47,
   "metadata": {
    "collapsed": true
   },
   "outputs": [],
   "source": [
    "data.drop(['Region', 'Channel'], axis = 1, inplace = True)"
   ]
  },
  {
   "cell_type": "code",
   "execution_count": 48,
   "metadata": {
    "collapsed": false
   },
   "outputs": [
    {
     "data": {
      "text/html": [
       "<div>\n",
       "<table border=\"1\" class=\"dataframe\">\n",
       "  <thead>\n",
       "    <tr style=\"text-align: right;\">\n",
       "      <th></th>\n",
       "      <th>Fresh</th>\n",
       "      <th>Milk</th>\n",
       "      <th>Grocery</th>\n",
       "      <th>Frozen</th>\n",
       "      <th>Detergents_Paper</th>\n",
       "      <th>Delicassen</th>\n",
       "    </tr>\n",
       "  </thead>\n",
       "  <tbody>\n",
       "    <tr>\n",
       "      <th>0</th>\n",
       "      <td>12669</td>\n",
       "      <td>9656</td>\n",
       "      <td>7561</td>\n",
       "      <td>214</td>\n",
       "      <td>2674</td>\n",
       "      <td>1338</td>\n",
       "    </tr>\n",
       "  </tbody>\n",
       "</table>\n",
       "</div>"
      ],
      "text/plain": [
       "   Fresh  Milk  Grocery  Frozen  Detergents_Paper  Delicassen\n",
       "0  12669  9656     7561     214              2674        1338"
      ]
     },
     "execution_count": 48,
     "metadata": {},
     "output_type": "execute_result"
    }
   ],
   "source": [
    "data.head(1)"
   ]
  },
  {
   "cell_type": "markdown",
   "metadata": {},
   "source": [
    "## Visualizations, Feature relevance, Statistical description"
   ]
  },
  {
   "cell_type": "code",
   "execution_count": 11,
   "metadata": {
    "collapsed": false
   },
   "outputs": [
    {
     "data": {
      "text/html": [
       "<div>\n",
       "<table border=\"1\" class=\"dataframe\">\n",
       "  <thead>\n",
       "    <tr style=\"text-align: right;\">\n",
       "      <th></th>\n",
       "      <th>Fresh</th>\n",
       "      <th>Milk</th>\n",
       "      <th>Grocery</th>\n",
       "      <th>Frozen</th>\n",
       "      <th>Detergents_Paper</th>\n",
       "      <th>Delicassen</th>\n",
       "    </tr>\n",
       "  </thead>\n",
       "  <tbody>\n",
       "    <tr>\n",
       "      <th>count</th>\n",
       "      <td>440.000000</td>\n",
       "      <td>440.000000</td>\n",
       "      <td>440.000000</td>\n",
       "      <td>440.000000</td>\n",
       "      <td>440.000000</td>\n",
       "      <td>440.000000</td>\n",
       "    </tr>\n",
       "    <tr>\n",
       "      <th>mean</th>\n",
       "      <td>12000.297727</td>\n",
       "      <td>5796.265909</td>\n",
       "      <td>7951.277273</td>\n",
       "      <td>3071.931818</td>\n",
       "      <td>2881.493182</td>\n",
       "      <td>1524.870455</td>\n",
       "    </tr>\n",
       "    <tr>\n",
       "      <th>std</th>\n",
       "      <td>12647.328865</td>\n",
       "      <td>7380.377175</td>\n",
       "      <td>9503.162829</td>\n",
       "      <td>4854.673333</td>\n",
       "      <td>4767.854448</td>\n",
       "      <td>2820.105937</td>\n",
       "    </tr>\n",
       "    <tr>\n",
       "      <th>min</th>\n",
       "      <td>3.000000</td>\n",
       "      <td>55.000000</td>\n",
       "      <td>3.000000</td>\n",
       "      <td>25.000000</td>\n",
       "      <td>3.000000</td>\n",
       "      <td>3.000000</td>\n",
       "    </tr>\n",
       "    <tr>\n",
       "      <th>25%</th>\n",
       "      <td>3127.750000</td>\n",
       "      <td>1533.000000</td>\n",
       "      <td>2153.000000</td>\n",
       "      <td>742.250000</td>\n",
       "      <td>256.750000</td>\n",
       "      <td>408.250000</td>\n",
       "    </tr>\n",
       "    <tr>\n",
       "      <th>50%</th>\n",
       "      <td>8504.000000</td>\n",
       "      <td>3627.000000</td>\n",
       "      <td>4755.500000</td>\n",
       "      <td>1526.000000</td>\n",
       "      <td>816.500000</td>\n",
       "      <td>965.500000</td>\n",
       "    </tr>\n",
       "    <tr>\n",
       "      <th>75%</th>\n",
       "      <td>16933.750000</td>\n",
       "      <td>7190.250000</td>\n",
       "      <td>10655.750000</td>\n",
       "      <td>3554.250000</td>\n",
       "      <td>3922.000000</td>\n",
       "      <td>1820.250000</td>\n",
       "    </tr>\n",
       "    <tr>\n",
       "      <th>max</th>\n",
       "      <td>112151.000000</td>\n",
       "      <td>73498.000000</td>\n",
       "      <td>92780.000000</td>\n",
       "      <td>60869.000000</td>\n",
       "      <td>40827.000000</td>\n",
       "      <td>47943.000000</td>\n",
       "    </tr>\n",
       "  </tbody>\n",
       "</table>\n",
       "</div>"
      ],
      "text/plain": [
       "               Fresh          Milk       Grocery        Frozen  \\\n",
       "count     440.000000    440.000000    440.000000    440.000000   \n",
       "mean    12000.297727   5796.265909   7951.277273   3071.931818   \n",
       "std     12647.328865   7380.377175   9503.162829   4854.673333   \n",
       "min         3.000000     55.000000      3.000000     25.000000   \n",
       "25%      3127.750000   1533.000000   2153.000000    742.250000   \n",
       "50%      8504.000000   3627.000000   4755.500000   1526.000000   \n",
       "75%     16933.750000   7190.250000  10655.750000   3554.250000   \n",
       "max    112151.000000  73498.000000  92780.000000  60869.000000   \n",
       "\n",
       "       Detergents_Paper    Delicassen  \n",
       "count        440.000000    440.000000  \n",
       "mean        2881.493182   1524.870455  \n",
       "std         4767.854448   2820.105937  \n",
       "min            3.000000      3.000000  \n",
       "25%          256.750000    408.250000  \n",
       "50%          816.500000    965.500000  \n",
       "75%         3922.000000   1820.250000  \n",
       "max        40827.000000  47943.000000  "
      ]
     },
     "metadata": {},
     "output_type": "display_data"
    }
   ],
   "source": [
    "# Display a description of the dataset\n",
    "display(data.describe())"
   ]
  },
  {
   "cell_type": "code",
   "execution_count": 12,
   "metadata": {
    "collapsed": false
   },
   "outputs": [
    {
     "data": {
      "text/plain": [
       "Index([u'Fresh', u'Milk', u'Grocery', u'Frozen', u'Detergents_Paper',\n",
       "       u'Delicassen'],\n",
       "      dtype='object')"
      ]
     },
     "execution_count": 12,
     "metadata": {},
     "output_type": "execute_result"
    }
   ],
   "source": [
    "# Column Names\n",
    "data.keys()"
   ]
  },
  {
   "cell_type": "code",
   "execution_count": 22,
   "metadata": {
    "collapsed": false
   },
   "outputs": [
    {
     "name": "stdout",
     "output_type": "stream",
     "text": [
      "Chosen samples:\n"
     ]
    },
    {
     "data": {
      "text/html": [
       "<div>\n",
       "<table border=\"1\" class=\"dataframe\">\n",
       "  <thead>\n",
       "    <tr style=\"text-align: right;\">\n",
       "      <th></th>\n",
       "      <th>Fresh</th>\n",
       "      <th>Milk</th>\n",
       "      <th>Grocery</th>\n",
       "      <th>Frozen</th>\n",
       "      <th>Detergents_Paper</th>\n",
       "      <th>Delicassen</th>\n",
       "    </tr>\n",
       "  </thead>\n",
       "  <tbody>\n",
       "    <tr>\n",
       "      <th>0</th>\n",
       "      <td>16225</td>\n",
       "      <td>1825</td>\n",
       "      <td>1765</td>\n",
       "      <td>853</td>\n",
       "      <td>170</td>\n",
       "      <td>1067</td>\n",
       "    </tr>\n",
       "    <tr>\n",
       "      <th>1</th>\n",
       "      <td>3067</td>\n",
       "      <td>13240</td>\n",
       "      <td>23127</td>\n",
       "      <td>3941</td>\n",
       "      <td>9959</td>\n",
       "      <td>731</td>\n",
       "    </tr>\n",
       "    <tr>\n",
       "      <th>2</th>\n",
       "      <td>3191</td>\n",
       "      <td>1993</td>\n",
       "      <td>1799</td>\n",
       "      <td>1730</td>\n",
       "      <td>234</td>\n",
       "      <td>710</td>\n",
       "    </tr>\n",
       "  </tbody>\n",
       "</table>\n",
       "</div>"
      ],
      "text/plain": [
       "   Fresh   Milk  Grocery  Frozen  Detergents_Paper  Delicassen\n",
       "0  16225   1825     1765     853               170        1067\n",
       "1   3067  13240    23127    3941              9959         731\n",
       "2   3191   1993     1799    1730               234         710"
      ]
     },
     "metadata": {},
     "output_type": "display_data"
    }
   ],
   "source": [
    "indices = [150,200,250]\n",
    "\n",
    "# 把sample原来的序号去掉重新分配\n",
    "samples = pd.DataFrame(data.loc[indices], columns = data.keys()).reset_index(drop = True)\n",
    "print \"Chosen samples:\"\n",
    "display(samples)"
   ]
  },
  {
   "cell_type": "markdown",
   "metadata": {},
   "source": [
    "#### Feature relevance\n",
    "？？？要看购买一个category的时候是否会买另外一个category：\n",
    "移除一个feature，训练一个监督式回归模型，用其余feature去预测这个被移除的feature，\n",
    "如果得分高，说明它们之间有关系，否则没有强联系。"
   ]
  },
  {
   "cell_type": "code",
   "execution_count": 44,
   "metadata": {
    "collapsed": false
   },
   "outputs": [
    {
     "data": {
      "text/html": [
       "<div>\n",
       "<table border=\"1\" class=\"dataframe\">\n",
       "  <thead>\n",
       "    <tr style=\"text-align: right;\">\n",
       "      <th></th>\n",
       "      <th>Fresh</th>\n",
       "      <th>Grocery</th>\n",
       "      <th>Frozen</th>\n",
       "      <th>Detergents_Paper</th>\n",
       "      <th>Delicassen</th>\n",
       "    </tr>\n",
       "  </thead>\n",
       "  <tbody>\n",
       "    <tr>\n",
       "      <th>0</th>\n",
       "      <td>12669</td>\n",
       "      <td>7561</td>\n",
       "      <td>214</td>\n",
       "      <td>2674</td>\n",
       "      <td>1338</td>\n",
       "    </tr>\n",
       "  </tbody>\n",
       "</table>\n",
       "</div>"
      ],
      "text/plain": [
       "   Fresh  Grocery  Frozen  Detergents_Paper  Delicassen\n",
       "0  12669     7561     214              2674        1338"
      ]
     },
     "execution_count": 44,
     "metadata": {},
     "output_type": "execute_result"
    }
   ],
   "source": [
    "new_data = data\n",
    "new_data.head(1)"
   ]
  },
  {
   "cell_type": "code",
   "execution_count": 35,
   "metadata": {
    "collapsed": false
   },
   "outputs": [],
   "source": [
    "# 对 new_data 做的drop，还是会作用到data上\n",
    "new_data.drop(['Milk'], axis = 1, inplace = True)"
   ]
  },
  {
   "cell_type": "code",
   "execution_count": 43,
   "metadata": {
    "collapsed": false
   },
   "outputs": [
    {
     "data": {
      "text/html": [
       "<div>\n",
       "<table border=\"1\" class=\"dataframe\">\n",
       "  <thead>\n",
       "    <tr style=\"text-align: right;\">\n",
       "      <th></th>\n",
       "      <th>Fresh</th>\n",
       "      <th>Grocery</th>\n",
       "      <th>Frozen</th>\n",
       "      <th>Detergents_Paper</th>\n",
       "      <th>Delicassen</th>\n",
       "    </tr>\n",
       "  </thead>\n",
       "  <tbody>\n",
       "    <tr>\n",
       "      <th>0</th>\n",
       "      <td>12669</td>\n",
       "      <td>7561</td>\n",
       "      <td>214</td>\n",
       "      <td>2674</td>\n",
       "      <td>1338</td>\n",
       "    </tr>\n",
       "  </tbody>\n",
       "</table>\n",
       "</div>"
      ],
      "text/plain": [
       "   Fresh  Grocery  Frozen  Detergents_Paper  Delicassen\n",
       "0  12669     7561     214              2674        1338"
      ]
     },
     "execution_count": 43,
     "metadata": {},
     "output_type": "execute_result"
    }
   ],
   "source": [
    "new_data.head(1)"
   ]
  },
  {
   "cell_type": "code",
   "execution_count": null,
   "metadata": {
    "collapsed": true
   },
   "outputs": [],
   "source": [
    "data = pd.read_csv(\"Wholesale customers data.csv\")\n",
    "data.drop(['Region', 'Channel'], axis = 1, inplace = True)"
   ]
  },
  {
   "cell_type": "code",
   "execution_count": 39,
   "metadata": {
    "collapsed": false
   },
   "outputs": [],
   "source": [
    "# 分解数据集\n",
    "from sklearn import cross_validation"
   ]
  },
  {
   "cell_type": "code",
   "execution_count": 53,
   "metadata": {
    "collapsed": false
   },
   "outputs": [
    {
     "data": {
      "text/plain": [
       "0    9656\n",
       "Name: Milk, dtype: int64"
      ]
     },
     "execution_count": 53,
     "metadata": {},
     "output_type": "execute_result"
    }
   ],
   "source": [
    "y = data['Milk']\n",
    "y.head(1)"
   ]
  },
  {
   "cell_type": "code",
   "execution_count": 54,
   "metadata": {
    "collapsed": true
   },
   "outputs": [],
   "source": [
    "X = new_data"
   ]
  },
  {
   "cell_type": "code",
   "execution_count": 61,
   "metadata": {
    "collapsed": false
   },
   "outputs": [
    {
     "data": {
      "text/html": [
       "<div>\n",
       "<table border=\"1\" class=\"dataframe\">\n",
       "  <thead>\n",
       "    <tr style=\"text-align: right;\">\n",
       "      <th></th>\n",
       "      <th>Fresh</th>\n",
       "      <th>Grocery</th>\n",
       "      <th>Frozen</th>\n",
       "      <th>Detergents_Paper</th>\n",
       "      <th>Delicassen</th>\n",
       "    </tr>\n",
       "  </thead>\n",
       "  <tbody>\n",
       "    <tr>\n",
       "      <th>0</th>\n",
       "      <td>12669</td>\n",
       "      <td>7561</td>\n",
       "      <td>214</td>\n",
       "      <td>2674</td>\n",
       "      <td>1338</td>\n",
       "    </tr>\n",
       "  </tbody>\n",
       "</table>\n",
       "</div>"
      ],
      "text/plain": [
       "   Fresh  Grocery  Frozen  Detergents_Paper  Delicassen\n",
       "0  12669     7561     214              2674        1338"
      ]
     },
     "execution_count": 61,
     "metadata": {},
     "output_type": "execute_result"
    }
   ],
   "source": [
    "X.head(1)"
   ]
  },
  {
   "cell_type": "code",
   "execution_count": 56,
   "metadata": {
    "collapsed": true
   },
   "outputs": [],
   "source": [
    "X_train, X_test, y_train, y_test = cross_validation.train_test_split(X, y, test_size = 0.25, random_state = 0)"
   ]
  },
  {
   "cell_type": "code",
   "execution_count": 60,
   "metadata": {
    "collapsed": false
   },
   "outputs": [
    {
     "name": "stdout",
     "output_type": "stream",
     "text": [
      "330 110 330 110\n"
     ]
    }
   ],
   "source": [
    "print len(X_train), len(X_test), len(y_train), len(y_test)"
   ]
  },
  {
   "cell_type": "code",
   "execution_count": 62,
   "metadata": {
    "collapsed": true
   },
   "outputs": [],
   "source": [
    "from sklearn import tree"
   ]
  },
  {
   "cell_type": "code",
   "execution_count": 63,
   "metadata": {
    "collapsed": true
   },
   "outputs": [],
   "source": [
    "regressor = tree.DecisionTreeRegressor()\n",
    "regressor = regressor.fit(X_train, y_train)"
   ]
  },
  {
   "cell_type": "code",
   "execution_count": 65,
   "metadata": {
    "collapsed": false
   },
   "outputs": [],
   "source": [
    "score = regressor.score(X_test, y_test)"
   ]
  },
  {
   "cell_type": "code",
   "execution_count": 66,
   "metadata": {
    "collapsed": false
   },
   "outputs": [
    {
     "data": {
      "text/plain": [
       "0.044580010749784349"
      ]
     },
     "execution_count": 66,
     "metadata": {},
     "output_type": "execute_result"
    }
   ],
   "source": [
    "score"
   ]
  },
  {
   "cell_type": "markdown",
   "metadata": {},
   "source": [
    "### Feature Correlation\n",
    "画出 6 个 feature 的散点矩阵，\n",
    "如果某个 feature 对分类目标有显著的作用，那么它不会和其他feature有很大的关联，\n",
    "相反，如果它和其他feature有关联，那么它对分类问题没太大贡献。"
   ]
  },
  {
   "cell_type": "code",
   "execution_count": 67,
   "metadata": {
    "collapsed": false
   },
   "outputs": [
    {
     "data": {
      "text/html": [
       "<div>\n",
       "<table border=\"1\" class=\"dataframe\">\n",
       "  <thead>\n",
       "    <tr style=\"text-align: right;\">\n",
       "      <th></th>\n",
       "      <th>Fresh</th>\n",
       "      <th>Milk</th>\n",
       "      <th>Grocery</th>\n",
       "      <th>Frozen</th>\n",
       "      <th>Detergents_Paper</th>\n",
       "      <th>Delicassen</th>\n",
       "    </tr>\n",
       "  </thead>\n",
       "  <tbody>\n",
       "    <tr>\n",
       "      <th>0</th>\n",
       "      <td>12669</td>\n",
       "      <td>9656</td>\n",
       "      <td>7561</td>\n",
       "      <td>214</td>\n",
       "      <td>2674</td>\n",
       "      <td>1338</td>\n",
       "    </tr>\n",
       "  </tbody>\n",
       "</table>\n",
       "</div>"
      ],
      "text/plain": [
       "   Fresh  Milk  Grocery  Frozen  Detergents_Paper  Delicassen\n",
       "0  12669  9656     7561     214              2674        1338"
      ]
     },
     "execution_count": 67,
     "metadata": {},
     "output_type": "execute_result"
    }
   ],
   "source": [
    "data.head(1)"
   ]
  },
  {
   "cell_type": "code",
   "execution_count": 69,
   "metadata": {
    "collapsed": false
   },
   "outputs": [
    {
     "data": {
      "image/png": "[encoded data removed]",
      "text/plain": [
       "<matplotlib.figure.Figure at 0x114c2dad0>"
      ]
     },
     "metadata": {},
     "output_type": "display_data"
    }
   ],
   "source": [
    "pd.scatter_matrix(data, alpha = 0.3, figsize = (14, 8), diagonal = 'kde');"
   ]
  },
  {
   "cell_type": "markdown",
   "metadata": {},
   "source": [
    "### Preprocessing\n",
    "scaling：当数据不符合正态分布的时候，需要做 scaling 的处理。常用的方法是取log。\n",
    "outliers：方法之一是 Tukey 方法，小于  Q1 – (1.5 × IQR) 或者大于 Q3 + (1.5 × IQR) 就被看作是outlier。"
   ]
  },
  {
   "cell_type": "code",
   "execution_count": 70,
   "metadata": {
    "collapsed": false
   },
   "outputs": [
    {
     "data": {
      "text/html": [
       "<div>\n",
       "<table border=\"1\" class=\"dataframe\">\n",
       "  <thead>\n",
       "    <tr style=\"text-align: right;\">\n",
       "      <th></th>\n",
       "      <th>Fresh</th>\n",
       "      <th>Milk</th>\n",
       "      <th>Grocery</th>\n",
       "      <th>Frozen</th>\n",
       "      <th>Detergents_Paper</th>\n",
       "      <th>Delicassen</th>\n",
       "    </tr>\n",
       "  </thead>\n",
       "  <tbody>\n",
       "    <tr>\n",
       "      <th>0</th>\n",
       "      <td>12669</td>\n",
       "      <td>9656</td>\n",
       "      <td>7561</td>\n",
       "      <td>214</td>\n",
       "      <td>2674</td>\n",
       "      <td>1338</td>\n",
       "    </tr>\n",
       "  </tbody>\n",
       "</table>\n",
       "</div>"
      ],
      "text/plain": [
       "   Fresh  Milk  Grocery  Frozen  Detergents_Paper  Delicassen\n",
       "0  12669  9656     7561     214              2674        1338"
      ]
     },
     "execution_count": 70,
     "metadata": {},
     "output_type": "execute_result"
    }
   ],
   "source": [
    "data.head(1)"
   ]
  },
  {
   "cell_type": "code",
   "execution_count": 71,
   "metadata": {
    "collapsed": true
   },
   "outputs": [],
   "source": [
    "log_data = np.log(data)"
   ]
  },
  {
   "cell_type": "code",
   "execution_count": 72,
   "metadata": {
    "collapsed": false
   },
   "outputs": [
    {
     "data": {
      "image/png": "[encoded data removed]",
      "text/plain": [
       "<matplotlib.figure.Figure at 0x1174344d0>"
      ]
     },
     "metadata": {},
     "output_type": "display_data"
    }
   ],
   "source": [
    "pd.scatter_matrix(log_data, alpha = 0.3, figsize = (14,8), diagonal = 'kde');"
   ]
  },
  {
   "cell_type": "code",
   "execution_count": 74,
   "metadata": {
    "collapsed": false
   },
   "outputs": [
    {
     "data": {
      "text/html": [
       "<div>\n",
       "<table border=\"1\" class=\"dataframe\">\n",
       "  <thead>\n",
       "    <tr style=\"text-align: right;\">\n",
       "      <th></th>\n",
       "      <th>Fresh</th>\n",
       "      <th>Milk</th>\n",
       "      <th>Grocery</th>\n",
       "      <th>Frozen</th>\n",
       "      <th>Detergents_Paper</th>\n",
       "      <th>Delicassen</th>\n",
       "    </tr>\n",
       "  </thead>\n",
       "  <tbody>\n",
       "    <tr>\n",
       "      <th>0</th>\n",
       "      <td>9.446913</td>\n",
       "      <td>9.175335</td>\n",
       "      <td>8.930759</td>\n",
       "      <td>5.365976</td>\n",
       "      <td>7.891331</td>\n",
       "      <td>7.198931</td>\n",
       "    </tr>\n",
       "  </tbody>\n",
       "</table>\n",
       "</div>"
      ],
      "text/plain": [
       "      Fresh      Milk   Grocery    Frozen  Detergents_Paper  Delicassen\n",
       "0  9.446913  9.175335  8.930759  5.365976          7.891331    7.198931"
      ]
     },
     "execution_count": 74,
     "metadata": {},
     "output_type": "execute_result"
    }
   ],
   "source": [
    "log_data.head(1)"
   ]
  },
  {
   "cell_type": "code",
   "execution_count": 104,
   "metadata": {
    "collapsed": false
   },
   "outputs": [
    {
     "name": "stdout",
     "output_type": "stream",
     "text": [
      "Outliers for feature 'Fresh':\n",
      "8.04805870221 9.73706394795 2.53350786861\n"
     ]
    },
    {
     "name": "stderr",
     "output_type": "stream",
     "text": [
      "/Users/galphen/anaconda/lib/python2.7/site-packages/ipykernel/__main__.py:7: FutureWarning: sort(columns=....) is deprecated, use sort_values(by=.....)\n"
     ]
    },
    {
     "data": {
      "text/html": [
       "<div>\n",
       "<table border=\"1\" class=\"dataframe\">\n",
       "  <thead>\n",
       "    <tr style=\"text-align: right;\">\n",
       "      <th></th>\n",
       "      <th>Fresh</th>\n",
       "      <th>Milk</th>\n",
       "      <th>Grocery</th>\n",
       "      <th>Frozen</th>\n",
       "      <th>Detergents_Paper</th>\n",
       "      <th>Delicassen</th>\n",
       "    </tr>\n",
       "  </thead>\n",
       "  <tbody>\n",
       "    <tr>\n",
       "      <th>95</th>\n",
       "      <td>1.098612</td>\n",
       "      <td>7.979339</td>\n",
       "      <td>8.740657</td>\n",
       "      <td>6.086775</td>\n",
       "      <td>5.407172</td>\n",
       "      <td>6.563856</td>\n",
       "    </tr>\n",
       "    <tr>\n",
       "      <th>338</th>\n",
       "      <td>1.098612</td>\n",
       "      <td>5.808142</td>\n",
       "      <td>8.856661</td>\n",
       "      <td>9.655090</td>\n",
       "      <td>2.708050</td>\n",
       "      <td>6.309918</td>\n",
       "    </tr>\n",
       "    <tr>\n",
       "      <th>66</th>\n",
       "      <td>2.197225</td>\n",
       "      <td>7.335634</td>\n",
       "      <td>8.911530</td>\n",
       "      <td>5.164786</td>\n",
       "      <td>8.151333</td>\n",
       "      <td>3.295837</td>\n",
       "    </tr>\n",
       "    <tr>\n",
       "      <th>218</th>\n",
       "      <td>2.890372</td>\n",
       "      <td>8.923191</td>\n",
       "      <td>9.629380</td>\n",
       "      <td>7.158514</td>\n",
       "      <td>8.475746</td>\n",
       "      <td>8.759669</td>\n",
       "    </tr>\n",
       "    <tr>\n",
       "      <th>96</th>\n",
       "      <td>3.135494</td>\n",
       "      <td>7.869402</td>\n",
       "      <td>9.001839</td>\n",
       "      <td>4.976734</td>\n",
       "      <td>8.262043</td>\n",
       "      <td>5.379897</td>\n",
       "    </tr>\n",
       "    <tr>\n",
       "      <th>357</th>\n",
       "      <td>3.610918</td>\n",
       "      <td>7.150701</td>\n",
       "      <td>10.011086</td>\n",
       "      <td>4.919981</td>\n",
       "      <td>8.816853</td>\n",
       "      <td>4.700480</td>\n",
       "    </tr>\n",
       "    <tr>\n",
       "      <th>65</th>\n",
       "      <td>4.442651</td>\n",
       "      <td>9.950323</td>\n",
       "      <td>10.732651</td>\n",
       "      <td>3.583519</td>\n",
       "      <td>10.095388</td>\n",
       "      <td>7.260523</td>\n",
       "    </tr>\n",
       "    <tr>\n",
       "      <th>412</th>\n",
       "      <td>4.574711</td>\n",
       "      <td>8.190077</td>\n",
       "      <td>9.425452</td>\n",
       "      <td>4.584967</td>\n",
       "      <td>7.996317</td>\n",
       "      <td>4.127134</td>\n",
       "    </tr>\n",
       "    <tr>\n",
       "      <th>353</th>\n",
       "      <td>4.762174</td>\n",
       "      <td>8.742574</td>\n",
       "      <td>9.961898</td>\n",
       "      <td>5.429346</td>\n",
       "      <td>9.069007</td>\n",
       "      <td>7.013016</td>\n",
       "    </tr>\n",
       "    <tr>\n",
       "      <th>128</th>\n",
       "      <td>4.941642</td>\n",
       "      <td>9.087834</td>\n",
       "      <td>8.248791</td>\n",
       "      <td>4.955827</td>\n",
       "      <td>6.967909</td>\n",
       "      <td>1.098612</td>\n",
       "    </tr>\n",
       "    <tr>\n",
       "      <th>304</th>\n",
       "      <td>5.081404</td>\n",
       "      <td>8.917311</td>\n",
       "      <td>10.117510</td>\n",
       "      <td>6.424869</td>\n",
       "      <td>9.374413</td>\n",
       "      <td>7.787382</td>\n",
       "    </tr>\n",
       "    <tr>\n",
       "      <th>193</th>\n",
       "      <td>5.192957</td>\n",
       "      <td>8.156223</td>\n",
       "      <td>9.917982</td>\n",
       "      <td>6.865891</td>\n",
       "      <td>8.633731</td>\n",
       "      <td>6.501290</td>\n",
       "    </tr>\n",
       "    <tr>\n",
       "      <th>355</th>\n",
       "      <td>5.247024</td>\n",
       "      <td>6.588926</td>\n",
       "      <td>7.606885</td>\n",
       "      <td>5.501258</td>\n",
       "      <td>5.214936</td>\n",
       "      <td>4.844187</td>\n",
       "    </tr>\n",
       "    <tr>\n",
       "      <th>171</th>\n",
       "      <td>5.298317</td>\n",
       "      <td>10.160530</td>\n",
       "      <td>9.894245</td>\n",
       "      <td>6.478510</td>\n",
       "      <td>9.079434</td>\n",
       "      <td>8.740337</td>\n",
       "    </tr>\n",
       "    <tr>\n",
       "      <th>81</th>\n",
       "      <td>5.389072</td>\n",
       "      <td>9.163249</td>\n",
       "      <td>9.575192</td>\n",
       "      <td>5.645447</td>\n",
       "      <td>8.964184</td>\n",
       "      <td>5.049856</td>\n",
       "    </tr>\n",
       "    <tr>\n",
       "      <th>305</th>\n",
       "      <td>5.493061</td>\n",
       "      <td>9.468001</td>\n",
       "      <td>9.088399</td>\n",
       "      <td>6.683361</td>\n",
       "      <td>8.271037</td>\n",
       "      <td>5.351858</td>\n",
       "    </tr>\n",
       "  </tbody>\n",
       "</table>\n",
       "</div>"
      ],
      "text/plain": [
       "        Fresh       Milk    Grocery    Frozen  Detergents_Paper  Delicassen\n",
       "95   1.098612   7.979339   8.740657  6.086775          5.407172    6.563856\n",
       "338  1.098612   5.808142   8.856661  9.655090          2.708050    6.309918\n",
       "66   2.197225   7.335634   8.911530  5.164786          8.151333    3.295837\n",
       "218  2.890372   8.923191   9.629380  7.158514          8.475746    8.759669\n",
       "96   3.135494   7.869402   9.001839  4.976734          8.262043    5.379897\n",
       "357  3.610918   7.150701  10.011086  4.919981          8.816853    4.700480\n",
       "65   4.442651   9.950323  10.732651  3.583519         10.095388    7.260523\n",
       "412  4.574711   8.190077   9.425452  4.584967          7.996317    4.127134\n",
       "353  4.762174   8.742574   9.961898  5.429346          9.069007    7.013016\n",
       "128  4.941642   9.087834   8.248791  4.955827          6.967909    1.098612\n",
       "304  5.081404   8.917311  10.117510  6.424869          9.374413    7.787382\n",
       "193  5.192957   8.156223   9.917982  6.865891          8.633731    6.501290\n",
       "355  5.247024   6.588926   7.606885  5.501258          5.214936    4.844187\n",
       "171  5.298317  10.160530   9.894245  6.478510          9.079434    8.740337\n",
       "81   5.389072   9.163249   9.575192  5.645447          8.964184    5.049856\n",
       "305  5.493061   9.468001   9.088399  6.683361          8.271037    5.351858"
      ]
     },
     "metadata": {},
     "output_type": "display_data"
    },
    {
     "name": "stdout",
     "output_type": "stream",
     "text": [
      "Outliers for feature 'Milk':\n",
      "7.33498124004 8.88048008859 2.31824827282\n"
     ]
    },
    {
     "data": {
      "text/html": [
       "<div>\n",
       "<table border=\"1\" class=\"dataframe\">\n",
       "  <thead>\n",
       "    <tr style=\"text-align: right;\">\n",
       "      <th></th>\n",
       "      <th>Fresh</th>\n",
       "      <th>Milk</th>\n",
       "      <th>Grocery</th>\n",
       "      <th>Frozen</th>\n",
       "      <th>Detergents_Paper</th>\n",
       "      <th>Delicassen</th>\n",
       "    </tr>\n",
       "  </thead>\n",
       "  <tbody>\n",
       "    <tr>\n",
       "      <th>154</th>\n",
       "      <td>6.432940</td>\n",
       "      <td>4.007333</td>\n",
       "      <td>4.919981</td>\n",
       "      <td>4.317488</td>\n",
       "      <td>1.945910</td>\n",
       "      <td>2.079442</td>\n",
       "    </tr>\n",
       "    <tr>\n",
       "      <th>98</th>\n",
       "      <td>6.220590</td>\n",
       "      <td>4.718499</td>\n",
       "      <td>6.656727</td>\n",
       "      <td>6.796824</td>\n",
       "      <td>4.025352</td>\n",
       "      <td>4.882802</td>\n",
       "    </tr>\n",
       "    <tr>\n",
       "      <th>356</th>\n",
       "      <td>10.029503</td>\n",
       "      <td>4.897840</td>\n",
       "      <td>5.384495</td>\n",
       "      <td>8.057377</td>\n",
       "      <td>2.197225</td>\n",
       "      <td>6.306275</td>\n",
       "    </tr>\n",
       "    <tr>\n",
       "      <th>86</th>\n",
       "      <td>10.039983</td>\n",
       "      <td>11.205013</td>\n",
       "      <td>10.377047</td>\n",
       "      <td>6.894670</td>\n",
       "      <td>9.906981</td>\n",
       "      <td>6.805723</td>\n",
       "    </tr>\n",
       "  </tbody>\n",
       "</table>\n",
       "</div>"
      ],
      "text/plain": [
       "         Fresh       Milk    Grocery    Frozen  Detergents_Paper  Delicassen\n",
       "154   6.432940   4.007333   4.919981  4.317488          1.945910    2.079442\n",
       "98    6.220590   4.718499   6.656727  6.796824          4.025352    4.882802\n",
       "356  10.029503   4.897840   5.384495  8.057377          2.197225    6.306275\n",
       "86   10.039983  11.205013  10.377047  6.894670          9.906981    6.805723"
      ]
     },
     "metadata": {},
     "output_type": "display_data"
    },
    {
     "name": "stdout",
     "output_type": "stream",
     "text": [
      "Outliers for feature 'Grocery':\n",
      "7.67461620137 9.27385367724 2.3988562138\n"
     ]
    },
    {
     "data": {
      "text/html": [
       "<div>\n",
       "<table border=\"1\" class=\"dataframe\">\n",
       "  <thead>\n",
       "    <tr style=\"text-align: right;\">\n",
       "      <th></th>\n",
       "      <th>Fresh</th>\n",
       "      <th>Milk</th>\n",
       "      <th>Grocery</th>\n",
       "      <th>Frozen</th>\n",
       "      <th>Detergents_Paper</th>\n",
       "      <th>Delicassen</th>\n",
       "    </tr>\n",
       "  </thead>\n",
       "  <tbody>\n",
       "    <tr>\n",
       "      <th>75</th>\n",
       "      <td>9.923192</td>\n",
       "      <td>7.036148</td>\n",
       "      <td>1.098612</td>\n",
       "      <td>8.390949</td>\n",
       "      <td>1.098612</td>\n",
       "      <td>6.882437</td>\n",
       "    </tr>\n",
       "    <tr>\n",
       "      <th>154</th>\n",
       "      <td>6.432940</td>\n",
       "      <td>4.007333</td>\n",
       "      <td>4.919981</td>\n",
       "      <td>4.317488</td>\n",
       "      <td>1.945910</td>\n",
       "      <td>2.079442</td>\n",
       "    </tr>\n",
       "  </tbody>\n",
       "</table>\n",
       "</div>"
      ],
      "text/plain": [
       "        Fresh      Milk   Grocery    Frozen  Detergents_Paper  Delicassen\n",
       "75   9.923192  7.036148  1.098612  8.390949          1.098612    6.882437\n",
       "154  6.432940  4.007333  4.919981  4.317488          1.945910    2.079442"
      ]
     },
     "metadata": {},
     "output_type": "display_data"
    },
    {
     "name": "stdout",
     "output_type": "stream",
     "text": [
      "Outliers for feature 'Frozen':\n",
      "6.60967774917 8.17589608318 2.34932750101\n"
     ]
    },
    {
     "data": {
      "text/html": [
       "<div>\n",
       "<table border=\"1\" class=\"dataframe\">\n",
       "  <thead>\n",
       "    <tr style=\"text-align: right;\">\n",
       "      <th></th>\n",
       "      <th>Fresh</th>\n",
       "      <th>Milk</th>\n",
       "      <th>Grocery</th>\n",
       "      <th>Frozen</th>\n",
       "      <th>Detergents_Paper</th>\n",
       "      <th>Delicassen</th>\n",
       "    </tr>\n",
       "  </thead>\n",
       "  <tbody>\n",
       "    <tr>\n",
       "      <th>420</th>\n",
       "      <td>8.402007</td>\n",
       "      <td>8.569026</td>\n",
       "      <td>9.490015</td>\n",
       "      <td>3.218876</td>\n",
       "      <td>8.827321</td>\n",
       "      <td>7.239215</td>\n",
       "    </tr>\n",
       "    <tr>\n",
       "      <th>38</th>\n",
       "      <td>8.431853</td>\n",
       "      <td>9.663261</td>\n",
       "      <td>9.723703</td>\n",
       "      <td>3.496508</td>\n",
       "      <td>8.847360</td>\n",
       "      <td>6.070738</td>\n",
       "    </tr>\n",
       "    <tr>\n",
       "      <th>65</th>\n",
       "      <td>4.442651</td>\n",
       "      <td>9.950323</td>\n",
       "      <td>10.732651</td>\n",
       "      <td>3.583519</td>\n",
       "      <td>10.095388</td>\n",
       "      <td>7.260523</td>\n",
       "    </tr>\n",
       "    <tr>\n",
       "      <th>57</th>\n",
       "      <td>8.597297</td>\n",
       "      <td>9.203618</td>\n",
       "      <td>9.257892</td>\n",
       "      <td>3.637586</td>\n",
       "      <td>8.932213</td>\n",
       "      <td>7.156177</td>\n",
       "    </tr>\n",
       "    <tr>\n",
       "      <th>145</th>\n",
       "      <td>10.000569</td>\n",
       "      <td>9.034080</td>\n",
       "      <td>10.457143</td>\n",
       "      <td>3.737670</td>\n",
       "      <td>9.440738</td>\n",
       "      <td>8.396155</td>\n",
       "    </tr>\n",
       "    <tr>\n",
       "      <th>429</th>\n",
       "      <td>9.060331</td>\n",
       "      <td>7.467371</td>\n",
       "      <td>8.183118</td>\n",
       "      <td>3.850148</td>\n",
       "      <td>4.430817</td>\n",
       "      <td>7.824446</td>\n",
       "    </tr>\n",
       "    <tr>\n",
       "      <th>175</th>\n",
       "      <td>7.759187</td>\n",
       "      <td>8.967632</td>\n",
       "      <td>9.382106</td>\n",
       "      <td>3.951244</td>\n",
       "      <td>8.341887</td>\n",
       "      <td>7.436617</td>\n",
       "    </tr>\n",
       "    <tr>\n",
       "      <th>264</th>\n",
       "      <td>6.978214</td>\n",
       "      <td>9.177714</td>\n",
       "      <td>9.645041</td>\n",
       "      <td>4.110874</td>\n",
       "      <td>8.696176</td>\n",
       "      <td>7.142827</td>\n",
       "    </tr>\n",
       "    <tr>\n",
       "      <th>439</th>\n",
       "      <td>7.932721</td>\n",
       "      <td>7.437206</td>\n",
       "      <td>7.828038</td>\n",
       "      <td>4.174387</td>\n",
       "      <td>6.167516</td>\n",
       "      <td>3.951244</td>\n",
       "    </tr>\n",
       "    <tr>\n",
       "      <th>325</th>\n",
       "      <td>10.395650</td>\n",
       "      <td>9.728181</td>\n",
       "      <td>9.519735</td>\n",
       "      <td>11.016479</td>\n",
       "      <td>7.148346</td>\n",
       "      <td>8.632128</td>\n",
       "    </tr>\n",
       "  </tbody>\n",
       "</table>\n",
       "</div>"
      ],
      "text/plain": [
       "         Fresh      Milk    Grocery     Frozen  Detergents_Paper  Delicassen\n",
       "420   8.402007  8.569026   9.490015   3.218876          8.827321    7.239215\n",
       "38    8.431853  9.663261   9.723703   3.496508          8.847360    6.070738\n",
       "65    4.442651  9.950323  10.732651   3.583519         10.095388    7.260523\n",
       "57    8.597297  9.203618   9.257892   3.637586          8.932213    7.156177\n",
       "145  10.000569  9.034080  10.457143   3.737670          9.440738    8.396155\n",
       "429   9.060331  7.467371   8.183118   3.850148          4.430817    7.824446\n",
       "175   7.759187  8.967632   9.382106   3.951244          8.341887    7.436617\n",
       "264   6.978214  9.177714   9.645041   4.110874          8.696176    7.142827\n",
       "439   7.932721  7.437206   7.828038   4.174387          6.167516    3.951244\n",
       "325  10.395650  9.728181   9.519735  11.016479          7.148346    8.632128"
      ]
     },
     "metadata": {},
     "output_type": "display_data"
    },
    {
     "name": "stdout",
     "output_type": "stream",
     "text": [
      "Outliers for feature 'Detergents_Paper':\n",
      "5.54810142479 8.27434059875 4.08935876094\n"
     ]
    },
    {
     "data": {
      "text/html": [
       "<div>\n",
       "<table border=\"1\" class=\"dataframe\">\n",
       "  <thead>\n",
       "    <tr style=\"text-align: right;\">\n",
       "      <th></th>\n",
       "      <th>Fresh</th>\n",
       "      <th>Milk</th>\n",
       "      <th>Grocery</th>\n",
       "      <th>Frozen</th>\n",
       "      <th>Detergents_Paper</th>\n",
       "      <th>Delicassen</th>\n",
       "    </tr>\n",
       "  </thead>\n",
       "  <tbody>\n",
       "    <tr>\n",
       "      <th>75</th>\n",
       "      <td>9.923192</td>\n",
       "      <td>7.036148</td>\n",
       "      <td>1.098612</td>\n",
       "      <td>8.390949</td>\n",
       "      <td>1.098612</td>\n",
       "      <td>6.882437</td>\n",
       "    </tr>\n",
       "    <tr>\n",
       "      <th>161</th>\n",
       "      <td>9.428190</td>\n",
       "      <td>6.291569</td>\n",
       "      <td>5.645447</td>\n",
       "      <td>6.995766</td>\n",
       "      <td>1.098612</td>\n",
       "      <td>7.711101</td>\n",
       "    </tr>\n",
       "  </tbody>\n",
       "</table>\n",
       "</div>"
      ],
      "text/plain": [
       "        Fresh      Milk   Grocery    Frozen  Detergents_Paper  Delicassen\n",
       "75   9.923192  7.036148  1.098612  8.390949          1.098612    6.882437\n",
       "161  9.428190  6.291569  5.645447  6.995766          1.098612    7.711101"
      ]
     },
     "metadata": {},
     "output_type": "display_data"
    },
    {
     "name": "stdout",
     "output_type": "stream",
     "text": [
      "Outliers for feature 'Delicassen':\n",
      "6.01187465693 7.50672842655 2.24228065442\n"
     ]
    },
    {
     "data": {
      "text/html": [
       "<div>\n",
       "<table border=\"1\" class=\"dataframe\">\n",
       "  <thead>\n",
       "    <tr style=\"text-align: right;\">\n",
       "      <th></th>\n",
       "      <th>Fresh</th>\n",
       "      <th>Milk</th>\n",
       "      <th>Grocery</th>\n",
       "      <th>Frozen</th>\n",
       "      <th>Detergents_Paper</th>\n",
       "      <th>Delicassen</th>\n",
       "    </tr>\n",
       "  </thead>\n",
       "  <tbody>\n",
       "    <tr>\n",
       "      <th>109</th>\n",
       "      <td>7.248504</td>\n",
       "      <td>9.724899</td>\n",
       "      <td>10.274568</td>\n",
       "      <td>6.511745</td>\n",
       "      <td>6.728629</td>\n",
       "      <td>1.098612</td>\n",
       "    </tr>\n",
       "    <tr>\n",
       "      <th>128</th>\n",
       "      <td>4.941642</td>\n",
       "      <td>9.087834</td>\n",
       "      <td>8.248791</td>\n",
       "      <td>4.955827</td>\n",
       "      <td>6.967909</td>\n",
       "      <td>1.098612</td>\n",
       "    </tr>\n",
       "    <tr>\n",
       "      <th>142</th>\n",
       "      <td>10.519646</td>\n",
       "      <td>8.875147</td>\n",
       "      <td>9.018332</td>\n",
       "      <td>8.004700</td>\n",
       "      <td>2.995732</td>\n",
       "      <td>1.098612</td>\n",
       "    </tr>\n",
       "    <tr>\n",
       "      <th>187</th>\n",
       "      <td>7.798933</td>\n",
       "      <td>8.987447</td>\n",
       "      <td>9.192075</td>\n",
       "      <td>8.743372</td>\n",
       "      <td>8.148735</td>\n",
       "      <td>1.098612</td>\n",
       "    </tr>\n",
       "    <tr>\n",
       "      <th>233</th>\n",
       "      <td>6.871091</td>\n",
       "      <td>8.513988</td>\n",
       "      <td>8.106515</td>\n",
       "      <td>6.842683</td>\n",
       "      <td>6.013715</td>\n",
       "      <td>1.945910</td>\n",
       "    </tr>\n",
       "    <tr>\n",
       "      <th>154</th>\n",
       "      <td>6.432940</td>\n",
       "      <td>4.007333</td>\n",
       "      <td>4.919981</td>\n",
       "      <td>4.317488</td>\n",
       "      <td>1.945910</td>\n",
       "      <td>2.079442</td>\n",
       "    </tr>\n",
       "    <tr>\n",
       "      <th>184</th>\n",
       "      <td>5.789960</td>\n",
       "      <td>6.822197</td>\n",
       "      <td>8.457443</td>\n",
       "      <td>4.304065</td>\n",
       "      <td>5.811141</td>\n",
       "      <td>2.397895</td>\n",
       "    </tr>\n",
       "    <tr>\n",
       "      <th>203</th>\n",
       "      <td>6.368187</td>\n",
       "      <td>6.529419</td>\n",
       "      <td>7.703459</td>\n",
       "      <td>6.150603</td>\n",
       "      <td>6.860664</td>\n",
       "      <td>2.890372</td>\n",
       "    </tr>\n",
       "    <tr>\n",
       "      <th>285</th>\n",
       "      <td>10.602965</td>\n",
       "      <td>6.461468</td>\n",
       "      <td>8.188689</td>\n",
       "      <td>6.948897</td>\n",
       "      <td>6.077642</td>\n",
       "      <td>2.890372</td>\n",
       "    </tr>\n",
       "    <tr>\n",
       "      <th>289</th>\n",
       "      <td>10.663966</td>\n",
       "      <td>5.655992</td>\n",
       "      <td>6.154858</td>\n",
       "      <td>7.235619</td>\n",
       "      <td>3.465736</td>\n",
       "      <td>3.091042</td>\n",
       "    </tr>\n",
       "    <tr>\n",
       "      <th>66</th>\n",
       "      <td>2.197225</td>\n",
       "      <td>7.335634</td>\n",
       "      <td>8.911530</td>\n",
       "      <td>5.164786</td>\n",
       "      <td>8.151333</td>\n",
       "      <td>3.295837</td>\n",
       "    </tr>\n",
       "    <tr>\n",
       "      <th>137</th>\n",
       "      <td>8.034955</td>\n",
       "      <td>8.997147</td>\n",
       "      <td>9.021840</td>\n",
       "      <td>6.493754</td>\n",
       "      <td>6.580639</td>\n",
       "      <td>3.583519</td>\n",
       "    </tr>\n",
       "    <tr>\n",
       "      <th>343</th>\n",
       "      <td>7.431892</td>\n",
       "      <td>8.848509</td>\n",
       "      <td>10.177932</td>\n",
       "      <td>7.283448</td>\n",
       "      <td>9.646593</td>\n",
       "      <td>3.610918</td>\n",
       "    </tr>\n",
       "    <tr>\n",
       "      <th>183</th>\n",
       "      <td>10.514529</td>\n",
       "      <td>10.690808</td>\n",
       "      <td>9.911952</td>\n",
       "      <td>10.505999</td>\n",
       "      <td>5.476464</td>\n",
       "      <td>10.777768</td>\n",
       "    </tr>\n",
       "  </tbody>\n",
       "</table>\n",
       "</div>"
      ],
      "text/plain": [
       "         Fresh       Milk    Grocery     Frozen  Detergents_Paper  Delicassen\n",
       "109   7.248504   9.724899  10.274568   6.511745          6.728629    1.098612\n",
       "128   4.941642   9.087834   8.248791   4.955827          6.967909    1.098612\n",
       "142  10.519646   8.875147   9.018332   8.004700          2.995732    1.098612\n",
       "187   7.798933   8.987447   9.192075   8.743372          8.148735    1.098612\n",
       "233   6.871091   8.513988   8.106515   6.842683          6.013715    1.945910\n",
       "154   6.432940   4.007333   4.919981   4.317488          1.945910    2.079442\n",
       "184   5.789960   6.822197   8.457443   4.304065          5.811141    2.397895\n",
       "203   6.368187   6.529419   7.703459   6.150603          6.860664    2.890372\n",
       "285  10.602965   6.461468   8.188689   6.948897          6.077642    2.890372\n",
       "289  10.663966   5.655992   6.154858   7.235619          3.465736    3.091042\n",
       "66    2.197225   7.335634   8.911530   5.164786          8.151333    3.295837\n",
       "137   8.034955   8.997147   9.021840   6.493754          6.580639    3.583519\n",
       "343   7.431892   8.848509  10.177932   7.283448          9.646593    3.610918\n",
       "183  10.514529  10.690808   9.911952  10.505999          5.476464   10.777768"
      ]
     },
     "metadata": {},
     "output_type": "display_data"
    }
   ],
   "source": [
    "for feature in log_data.keys():\n",
    "    Q1 = np.percentile(log_data[feature], 25)\n",
    "    Q3 = np.percentile(log_data[feature], 75)\n",
    "    step = 1.5 * (Q3 - Q1)\n",
    "    print \"Outliers for feature '{}':\".format(feature)\n",
    "    print Q1, Q3, step\n",
    "    display(log_data[~((log_data[feature]>=Q1-step) & (log_data[feature]<=Q3+step))].sort([feature]))"
   ]
  },
  {
   "cell_type": "code",
   "execution_count": 83,
   "metadata": {
    "collapsed": false
   },
   "outputs": [
    {
     "data": {
      "text/html": [
       "<div>\n",
       "<table border=\"1\" class=\"dataframe\">\n",
       "  <thead>\n",
       "    <tr style=\"text-align: right;\">\n",
       "      <th></th>\n",
       "      <th>Fresh</th>\n",
       "      <th>Milk</th>\n",
       "      <th>Grocery</th>\n",
       "      <th>Frozen</th>\n",
       "      <th>Detergents_Paper</th>\n",
       "      <th>Delicassen</th>\n",
       "    </tr>\n",
       "  </thead>\n",
       "  <tbody>\n",
       "    <tr>\n",
       "      <th>0</th>\n",
       "      <td>9.446913</td>\n",
       "      <td>9.175335</td>\n",
       "      <td>8.930759</td>\n",
       "      <td>5.365976</td>\n",
       "      <td>7.891331</td>\n",
       "      <td>7.198931</td>\n",
       "    </tr>\n",
       "  </tbody>\n",
       "</table>\n",
       "</div>"
      ],
      "text/plain": [
       "      Fresh      Milk   Grocery    Frozen  Detergents_Paper  Delicassen\n",
       "0  9.446913  9.175335  8.930759  5.365976          7.891331    7.198931"
      ]
     },
     "execution_count": 83,
     "metadata": {},
     "output_type": "execute_result"
    }
   ],
   "source": [
    "log_data.head(1)"
   ]
  },
  {
   "cell_type": "code",
   "execution_count": 93,
   "metadata": {
    "collapsed": false
   },
   "outputs": [
    {
     "data": {
      "image/png": "[encoded data removed]",
      "text/plain": [
       "<matplotlib.figure.Figure at 0x117fde510>"
      ]
     },
     "metadata": {},
     "output_type": "display_data"
    }
   ],
   "source": [
    "plt.figure()\n",
    "plt.boxplot([log_data.Fresh, log_data.Milk, log_data.Grocery, log_data.Frozen, log_data.Detergents_Paper, log_data.Delicassen], 0, 'gD');"
   ]
  },
  {
   "cell_type": "code",
   "execution_count": 105,
   "metadata": {
    "collapsed": true
   },
   "outputs": [],
   "source": [
    "outliers = [109, 183, 75, 161, 154, 95, 338]"
   ]
  },
  {
   "cell_type": "code",
   "execution_count": 106,
   "metadata": {
    "collapsed": true
   },
   "outputs": [],
   "source": [
    "good_data = log_data.drop(log_data.index[outliers]).reset_index(drop = True)"
   ]
  },
  {
   "cell_type": "markdown",
   "metadata": {},
   "source": [
    "### Principal Component analysis (PCA)\n",
    "通过PCA可以找到最合适的 feature 的组合来描述数据。当然这个被组合而成的也被看作是数据的 feature。\n",
    "每个维度都有一个 explained variance ratio，即数据的方差有多少是可以由这个维度来描述的。"
   ]
  },
  {
   "cell_type": "code",
   "execution_count": 110,
   "metadata": {
    "collapsed": true
   },
   "outputs": [],
   "source": [
    "from sklearn.decomposition import PCA"
   ]
  },
  {
   "cell_type": "code",
   "execution_count": 111,
   "metadata": {
    "collapsed": false
   },
   "outputs": [
    {
     "data": {
      "text/plain": [
       "PCA(copy=True, n_components=6, whiten=False)"
      ]
     },
     "execution_count": 111,
     "metadata": {},
     "output_type": "execute_result"
    }
   ],
   "source": [
    "pca = PCA(n_components = 6)\n",
    "pca.fit(good_data)"
   ]
  },
  {
   "cell_type": "code",
   "execution_count": 112,
   "metadata": {
    "collapsed": false
   },
   "outputs": [
    {
     "data": {
      "image/png": "[encoded data removed]",
      "text/plain": [
       "<matplotlib.figure.Figure at 0x117997c10>"
      ]
     },
     "metadata": {},
     "output_type": "display_data"
    }
   ],
   "source": [
    "pca_results = pca_results(good_data, pca)"
   ]
  },
  {
   "cell_type": "code",
   "execution_count": 116,
   "metadata": {
    "collapsed": false
   },
   "outputs": [
    {
     "data": {
      "text/html": [
       "<div>\n",
       "<table border=\"1\" class=\"dataframe\">\n",
       "  <thead>\n",
       "    <tr style=\"text-align: right;\">\n",
       "      <th></th>\n",
       "      <th>Fresh</th>\n",
       "      <th>Milk</th>\n",
       "      <th>Grocery</th>\n",
       "      <th>Frozen</th>\n",
       "      <th>Detergents_Paper</th>\n",
       "      <th>Delicassen</th>\n",
       "    </tr>\n",
       "  </thead>\n",
       "  <tbody>\n",
       "    <tr>\n",
       "      <th>0</th>\n",
       "      <td>9.694309</td>\n",
       "      <td>7.509335</td>\n",
       "      <td>7.475906</td>\n",
       "      <td>6.748760</td>\n",
       "      <td>5.135798</td>\n",
       "      <td>6.972606</td>\n",
       "    </tr>\n",
       "    <tr>\n",
       "      <th>1</th>\n",
       "      <td>8.028455</td>\n",
       "      <td>9.490998</td>\n",
       "      <td>10.048756</td>\n",
       "      <td>8.279190</td>\n",
       "      <td>9.206232</td>\n",
       "      <td>6.594413</td>\n",
       "    </tr>\n",
       "    <tr>\n",
       "      <th>2</th>\n",
       "      <td>8.068090</td>\n",
       "      <td>7.597396</td>\n",
       "      <td>7.494986</td>\n",
       "      <td>7.455877</td>\n",
       "      <td>5.455321</td>\n",
       "      <td>6.565265</td>\n",
       "    </tr>\n",
       "  </tbody>\n",
       "</table>\n",
       "</div>"
      ],
      "text/plain": [
       "      Fresh      Milk    Grocery    Frozen  Detergents_Paper  Delicassen\n",
       "0  9.694309  7.509335   7.475906  6.748760          5.135798    6.972606\n",
       "1  8.028455  9.490998  10.048756  8.279190          9.206232    6.594413\n",
       "2  8.068090  7.597396   7.494986  7.455877          5.455321    6.565265"
      ]
     },
     "execution_count": 116,
     "metadata": {},
     "output_type": "execute_result"
    }
   ],
   "source": [
    "log_samples = np.log(samples)\n",
    "log_samples"
   ]
  },
  {
   "cell_type": "code",
   "execution_count": 120,
   "metadata": {
    "collapsed": false
   },
   "outputs": [
    {
     "data": {
      "text/plain": [
       "array([[-1.98360377,  0.11375447,  0.16596012, -1.22671644, -0.07522882,\n",
       "         0.17690234],\n",
       "       [ 2.91701208,  0.59289732, -0.32393616,  1.55408514, -0.24269065,\n",
       "        -0.18194862],\n",
       "       [-1.54459101, -0.73854262,  0.7868206 ,  0.22673878, -0.11124675,\n",
       "         0.22489657]])"
      ]
     },
     "execution_count": 120,
     "metadata": {},
     "output_type": "execute_result"
    }
   ],
   "source": [
    "# 将数据X转换成降维后的数据。当模型训练好后，对于新输入的数据，都可以用transform方法来降维。\n",
    "pca_samples = pca.transform(log_samples)\n",
    "pca_samples"
   ]
  },
  {
   "cell_type": "code",
   "execution_count": 122,
   "metadata": {
    "collapsed": false
   },
   "outputs": [
    {
     "data": {
      "text/html": [
       "<div>\n",
       "<table border=\"1\" class=\"dataframe\">\n",
       "  <thead>\n",
       "    <tr style=\"text-align: right;\">\n",
       "      <th></th>\n",
       "      <th>Dimension 1</th>\n",
       "      <th>Dimension 2</th>\n",
       "      <th>Dimension 3</th>\n",
       "      <th>Dimension 4</th>\n",
       "      <th>Dimension 5</th>\n",
       "      <th>Dimension 6</th>\n",
       "    </tr>\n",
       "  </thead>\n",
       "  <tbody>\n",
       "    <tr>\n",
       "      <th>0</th>\n",
       "      <td>-1.9836</td>\n",
       "      <td>0.1138</td>\n",
       "      <td>0.1660</td>\n",
       "      <td>-1.2267</td>\n",
       "      <td>-0.0752</td>\n",
       "      <td>0.1769</td>\n",
       "    </tr>\n",
       "    <tr>\n",
       "      <th>1</th>\n",
       "      <td>2.9170</td>\n",
       "      <td>0.5929</td>\n",
       "      <td>-0.3239</td>\n",
       "      <td>1.5541</td>\n",
       "      <td>-0.2427</td>\n",
       "      <td>-0.1819</td>\n",
       "    </tr>\n",
       "    <tr>\n",
       "      <th>2</th>\n",
       "      <td>-1.5446</td>\n",
       "      <td>-0.7385</td>\n",
       "      <td>0.7868</td>\n",
       "      <td>0.2267</td>\n",
       "      <td>-0.1112</td>\n",
       "      <td>0.2249</td>\n",
       "    </tr>\n",
       "  </tbody>\n",
       "</table>\n",
       "</div>"
      ],
      "text/plain": [
       "   Dimension 1  Dimension 2  Dimension 3  Dimension 4  Dimension 5  \\\n",
       "0      -1.9836       0.1138       0.1660      -1.2267      -0.0752   \n",
       "1       2.9170       0.5929      -0.3239       1.5541      -0.2427   \n",
       "2      -1.5446      -0.7385       0.7868       0.2267      -0.1112   \n",
       "\n",
       "   Dimension 6  \n",
       "0       0.1769  \n",
       "1      -0.1819  \n",
       "2       0.2249  "
      ]
     },
     "metadata": {},
     "output_type": "display_data"
    }
   ],
   "source": [
    "display(pd.DataFrame(np.round(pca_samples, 4), columns = pca_results.index.values))"
   ]
  },
  {
   "cell_type": "code",
   "execution_count": 124,
   "metadata": {
    "collapsed": false
   },
   "outputs": [
    {
     "data": {
      "text/plain": [
       "array([[ -2.23770781e-01,   3.91637001e-01,   4.34116028e-01,\n",
       "         -2.09000094e-01,   7.38639493e-01,   1.37189762e-01],\n",
       "       [  6.40339939e-01,   1.84471720e-01,   1.08940429e-01,\n",
       "          5.09744555e-01,   7.84461772e-02,   5.27326859e-01],\n",
       "       [ -6.03387941e-01,   7.75979532e-03,  -8.15726057e-02,\n",
       "          4.15570151e-02,  -2.65805665e-01,   7.46209790e-01],\n",
       "       [ -4.17552519e-01,   1.19989049e-02,   6.45121072e-04,\n",
       "          8.32281584e-01,   1.62814750e-01,  -3.26043290e-01],\n",
       "       [  3.61923545e-02,  -7.47489210e-01,  -3.09179179e-01,\n",
       "         -4.89650434e-04,   5.51756324e-01,   1.99807278e-01],\n",
       "       [  1.24257955e-02,   5.03633137e-01,  -8.35122138e-01,\n",
       "         -4.53827057e-02,   2.16012872e-01,  -7.00900608e-03]])"
      ]
     },
     "execution_count": 124,
     "metadata": {},
     "output_type": "execute_result"
    }
   ],
   "source": [
    "# 上图中的纵轴所画\n",
    "pca.components_"
   ]
  },
  {
   "cell_type": "code",
   "execution_count": 125,
   "metadata": {
    "collapsed": false
   },
   "outputs": [
    {
     "data": {
      "text/plain": [
       "6"
      ]
     },
     "execution_count": 125,
     "metadata": {},
     "output_type": "execute_result"
    }
   ],
   "source": [
    "pca.n_components_"
   ]
  },
  {
   "cell_type": "code",
   "execution_count": 126,
   "metadata": {
    "collapsed": false
   },
   "outputs": [
    {
     "data": {
      "text/plain": [
       "array([ 4.53949079,  2.73104792,  1.09381021,  1.0073713 ,  0.47018512,\n",
       "        0.19774327])"
      ]
     },
     "execution_count": 126,
     "metadata": {},
     "output_type": "execute_result"
    }
   ],
   "source": [
    "# 上图中的图上方标注\n",
    "pca.explained_variance_ "
   ]
  },
  {
   "cell_type": "markdown",
   "metadata": {},
   "source": [
    "### 降维\n",
    "由 cumulative explained variance ratio 判断需要多少维度。\n",
    "如果数据可以被降维到 2-3 维，还可以可视化。"
   ]
  },
  {
   "cell_type": "code",
   "execution_count": 127,
   "metadata": {
    "collapsed": true
   },
   "outputs": [],
   "source": [
    "pca = PCA(n_components=2)"
   ]
  },
  {
   "cell_type": "code",
   "execution_count": 128,
   "metadata": {
    "collapsed": false
   },
   "outputs": [
    {
     "data": {
      "text/plain": [
       "PCA(copy=True, n_components=2, whiten=False)"
      ]
     },
     "execution_count": 128,
     "metadata": {},
     "output_type": "execute_result"
    }
   ],
   "source": [
    "pca.fit(good_data)"
   ]
  },
  {
   "cell_type": "code",
   "execution_count": 129,
   "metadata": {
    "collapsed": true
   },
   "outputs": [],
   "source": [
    "reduced_data = pca.transform(good_data)"
   ]
  },
  {
   "cell_type": "code",
   "execution_count": 130,
   "metadata": {
    "collapsed": true
   },
   "outputs": [],
   "source": [
    "pca_samples = pca.transform(log_samples)"
   ]
  },
  {
   "cell_type": "code",
   "execution_count": 131,
   "metadata": {
    "collapsed": true
   },
   "outputs": [],
   "source": [
    "reduced_data = pd.DataFrame(reduced_data, columns = ['Dimension 1', 'Dimension 2'])"
   ]
  },
  {
   "cell_type": "code",
   "execution_count": 133,
   "metadata": {
    "collapsed": false
   },
   "outputs": [
    {
     "data": {
      "text/html": [
       "<div>\n",
       "<table border=\"1\" class=\"dataframe\">\n",
       "  <thead>\n",
       "    <tr style=\"text-align: right;\">\n",
       "      <th></th>\n",
       "      <th>Dimension 1</th>\n",
       "      <th>Dimension 2</th>\n",
       "    </tr>\n",
       "  </thead>\n",
       "  <tbody>\n",
       "    <tr>\n",
       "      <th>0</th>\n",
       "      <td>-1.9836</td>\n",
       "      <td>0.1138</td>\n",
       "    </tr>\n",
       "    <tr>\n",
       "      <th>1</th>\n",
       "      <td>2.9170</td>\n",
       "      <td>0.5929</td>\n",
       "    </tr>\n",
       "    <tr>\n",
       "      <th>2</th>\n",
       "      <td>-1.5446</td>\n",
       "      <td>-0.7385</td>\n",
       "    </tr>\n",
       "  </tbody>\n",
       "</table>\n",
       "</div>"
      ],
      "text/plain": [
       "   Dimension 1  Dimension 2\n",
       "0      -1.9836       0.1138\n",
       "1       2.9170       0.5929\n",
       "2      -1.5446      -0.7385"
      ]
     },
     "metadata": {},
     "output_type": "display_data"
    }
   ],
   "source": [
    "display(pd.DataFrame(np.round(pca_samples, 4), columns = ['Dimension 1', 'Dimension 2']))"
   ]
  },
  {
   "cell_type": "markdown",
   "metadata": {},
   "source": [
    "### 聚类\n",
    "用 silhouette coefficient 计算每个数据到中心点的距离，-1 (dissimilar) to 1 (similar)\n",
    "根据这个系数来评价聚类算法的优劣。"
   ]
  },
  {
   "cell_type": "code",
   "execution_count": 134,
   "metadata": {
    "collapsed": true
   },
   "outputs": [],
   "source": [
    "from sklearn.cluster import KMeans"
   ]
  },
  {
   "cell_type": "code",
   "execution_count": 136,
   "metadata": {
    "collapsed": true
   },
   "outputs": [],
   "source": [
    "cluster = KMeans(n_clusters=2, random_state=0).fit(reduced_data)"
   ]
  },
  {
   "cell_type": "code",
   "execution_count": 138,
   "metadata": {
    "collapsed": true
   },
   "outputs": [],
   "source": [
    "preds = cluster.predict(reduced_data)"
   ]
  },
  {
   "cell_type": "code",
   "execution_count": 143,
   "metadata": {
    "collapsed": false
   },
   "outputs": [],
   "source": [
    "# preds - cluster.labels_"
   ]
  },
  {
   "cell_type": "code",
   "execution_count": 147,
   "metadata": {
    "collapsed": false
   },
   "outputs": [
    {
     "data": {
      "text/plain": [
       "array([[-1.49143632,  0.06631663],\n",
       "       [ 2.19880326, -0.09776965]])"
      ]
     },
     "execution_count": 147,
     "metadata": {},
     "output_type": "execute_result"
    }
   ],
   "source": [
    "centers = cluster.cluster_centers_\n",
    "centers"
   ]
  },
  {
   "cell_type": "code",
   "execution_count": 148,
   "metadata": {
    "collapsed": false
   },
   "outputs": [
    {
     "data": {
      "text/plain": [
       "array([0, 1, 0], dtype=int32)"
      ]
     },
     "execution_count": 148,
     "metadata": {},
     "output_type": "execute_result"
    }
   ],
   "source": [
    "sample_preds = cluster.predict(pca_samples)\n",
    "sample_preds"
   ]
  },
  {
   "cell_type": "code",
   "execution_count": 149,
   "metadata": {
    "collapsed": true
   },
   "outputs": [],
   "source": [
    "from sklearn.metrics import silhouette_score"
   ]
  },
  {
   "cell_type": "code",
   "execution_count": 151,
   "metadata": {
    "collapsed": false
   },
   "outputs": [
    {
     "data": {
      "text/plain": [
       "0.42928910092639655"
      ]
     },
     "execution_count": 151,
     "metadata": {},
     "output_type": "execute_result"
    }
   ],
   "source": [
    "score = silhouette_score(reduced_data, preds)\n",
    "score"
   ]
  },
  {
   "cell_type": "code",
   "execution_count": 157,
   "metadata": {
    "collapsed": false
   },
   "outputs": [
    {
     "name": "stdout",
     "output_type": "stream",
     "text": [
      "Score for cluster '2':\n",
      "0.429289100926\n",
      "Score for cluster '3':\n",
      "0.403903460167\n",
      "Score for cluster '4':\n",
      "0.335880540456\n",
      "Score for cluster '5':\n",
      "0.356798505281\n",
      "Score for cluster '6':\n",
      "0.3622507466\n"
     ]
    }
   ],
   "source": [
    "for i in range(2, 7):\n",
    "    cluster = KMeans(n_clusters=i, random_state=0).fit(reduced_data)\n",
    "    preds = cluster.predict(reduced_data)\n",
    "    score = silhouette_score(reduced_data, preds)\n",
    "    print \"Score for cluster '{}':\".format(i)\n",
    "    print score"
   ]
  },
  {
   "cell_type": "code",
   "execution_count": 159,
   "metadata": {
    "collapsed": false
   },
   "outputs": [
    {
     "data": {
      "text/plain": [
       "array([[-1.49143632,  0.06631663],\n",
       "       [ 2.19880326, -0.09776965]])"
      ]
     },
     "execution_count": 159,
     "metadata": {},
     "output_type": "execute_result"
    }
   ],
   "source": [
    "centers"
   ]
  },
  {
   "cell_type": "code",
   "execution_count": 158,
   "metadata": {
    "collapsed": false
   },
   "outputs": [
    {
     "data": {
      "image/png": "[encoded data removed]",
      "text/plain": [
       "<matplotlib.figure.Figure at 0x11887f510>"
      ]
     },
     "metadata": {},
     "output_type": "display_data"
    }
   ],
   "source": [
    "cluster_results(reduced_data, preds, centers, pca_samples)"
   ]
  },
  {
   "cell_type": "markdown",
   "metadata": {},
   "source": [
    "### 恢复维度\n",
    "前面的数据，先经过 log，又经过 PCA降维，\n",
    "要恢复回去，先用 pca.inverse_transform，再用 np.exp"
   ]
  },
  {
   "cell_type": "code",
   "execution_count": 160,
   "metadata": {
    "collapsed": false
   },
   "outputs": [
    {
     "data": {
      "text/plain": [
       "array([[-1.49143632,  0.06631663],\n",
       "       [ 2.19880326, -0.09776965]])"
      ]
     },
     "execution_count": 160,
     "metadata": {},
     "output_type": "execute_result"
    }
   ],
   "source": [
    "centers"
   ]
  },
  {
   "cell_type": "code",
   "execution_count": 161,
   "metadata": {
    "collapsed": false
   },
   "outputs": [
    {
     "data": {
      "text/plain": [
       "array([[ 9.14224385,  7.56144014,  7.8232009 ,  7.64378349,  5.74274691,\n",
       "         6.50757878],\n",
       "       [ 8.21140506,  8.97640522,  9.40731742,  6.78888098,  8.45563165,\n",
       "         6.92731476]])"
      ]
     },
     "execution_count": 161,
     "metadata": {},
     "output_type": "execute_result"
    }
   ],
   "source": [
    "log_centers = pca.inverse_transform(centers)\n",
    "log_centers"
   ]
  },
  {
   "cell_type": "code",
   "execution_count": 162,
   "metadata": {
    "collapsed": false
   },
   "outputs": [
    {
     "data": {
      "text/plain": [
       "array([[  9341.70298829,   1922.61235308,   2497.88812659,   2087.62740425,\n",
       "           311.9200501 ,    670.20174445],\n",
       "       [  3682.71325962,   7914.1313843 ,  12177.16091598,    887.91940836,\n",
       "          4701.47539009,   1019.75202487]])"
      ]
     },
     "execution_count": 162,
     "metadata": {},
     "output_type": "execute_result"
    }
   ],
   "source": [
    "true_centers = np.exp(log_centers)\n",
    "true_centers"
   ]
  },
  {
   "cell_type": "code",
   "execution_count": 163,
   "metadata": {
    "collapsed": false
   },
   "outputs": [
    {
     "data": {
      "text/plain": [
       "['Segment 0', 'Segment 1']"
      ]
     },
     "execution_count": 163,
     "metadata": {},
     "output_type": "execute_result"
    }
   ],
   "source": [
    "segments = ['Segment {}'.format(i) for i in range(0, len(centers))]\n",
    "segments"
   ]
  },
  {
   "cell_type": "code",
   "execution_count": 164,
   "metadata": {
    "collapsed": false
   },
   "outputs": [
    {
     "data": {
      "text/html": [
       "<div>\n",
       "<table border=\"1\" class=\"dataframe\">\n",
       "  <thead>\n",
       "    <tr style=\"text-align: right;\">\n",
       "      <th></th>\n",
       "      <th>Fresh</th>\n",
       "      <th>Milk</th>\n",
       "      <th>Grocery</th>\n",
       "      <th>Frozen</th>\n",
       "      <th>Detergents_Paper</th>\n",
       "      <th>Delicassen</th>\n",
       "    </tr>\n",
       "  </thead>\n",
       "  <tbody>\n",
       "    <tr>\n",
       "      <th>0</th>\n",
       "      <td>9342.0</td>\n",
       "      <td>1923.0</td>\n",
       "      <td>2498.0</td>\n",
       "      <td>2088.0</td>\n",
       "      <td>312.0</td>\n",
       "      <td>670.0</td>\n",
       "    </tr>\n",
       "    <tr>\n",
       "      <th>1</th>\n",
       "      <td>3683.0</td>\n",
       "      <td>7914.0</td>\n",
       "      <td>12177.0</td>\n",
       "      <td>888.0</td>\n",
       "      <td>4701.0</td>\n",
       "      <td>1020.0</td>\n",
       "    </tr>\n",
       "  </tbody>\n",
       "</table>\n",
       "</div>"
      ],
      "text/plain": [
       "    Fresh    Milk  Grocery  Frozen  Detergents_Paper  Delicassen\n",
       "0  9342.0  1923.0   2498.0  2088.0             312.0       670.0\n",
       "1  3683.0  7914.0  12177.0   888.0            4701.0      1020.0"
      ]
     },
     "execution_count": 164,
     "metadata": {},
     "output_type": "execute_result"
    }
   ],
   "source": [
    "true_centers = pd.DataFrame(np.round(true_centers), columns = data.keys())\n",
    "true_centers"
   ]
  },
  {
   "cell_type": "code",
   "execution_count": 165,
   "metadata": {
    "collapsed": false
   },
   "outputs": [
    {
     "data": {
      "text/html": [
       "<div>\n",
       "<table border=\"1\" class=\"dataframe\">\n",
       "  <thead>\n",
       "    <tr style=\"text-align: right;\">\n",
       "      <th></th>\n",
       "      <th>Fresh</th>\n",
       "      <th>Milk</th>\n",
       "      <th>Grocery</th>\n",
       "      <th>Frozen</th>\n",
       "      <th>Detergents_Paper</th>\n",
       "      <th>Delicassen</th>\n",
       "    </tr>\n",
       "  </thead>\n",
       "  <tbody>\n",
       "    <tr>\n",
       "      <th>Segment 0</th>\n",
       "      <td>9342.0</td>\n",
       "      <td>1923.0</td>\n",
       "      <td>2498.0</td>\n",
       "      <td>2088.0</td>\n",
       "      <td>312.0</td>\n",
       "      <td>670.0</td>\n",
       "    </tr>\n",
       "    <tr>\n",
       "      <th>Segment 1</th>\n",
       "      <td>3683.0</td>\n",
       "      <td>7914.0</td>\n",
       "      <td>12177.0</td>\n",
       "      <td>888.0</td>\n",
       "      <td>4701.0</td>\n",
       "      <td>1020.0</td>\n",
       "    </tr>\n",
       "  </tbody>\n",
       "</table>\n",
       "</div>"
      ],
      "text/plain": [
       "            Fresh    Milk  Grocery  Frozen  Detergents_Paper  Delicassen\n",
       "Segment 0  9342.0  1923.0   2498.0  2088.0             312.0       670.0\n",
       "Segment 1  3683.0  7914.0  12177.0   888.0            4701.0      1020.0"
      ]
     },
     "metadata": {},
     "output_type": "display_data"
    }
   ],
   "source": [
    "true_centers.index = segments\n",
    "display(true_centers)"
   ]
  },
  {
   "cell_type": "code",
   "execution_count": 185,
   "metadata": {
    "collapsed": false
   },
   "outputs": [
    {
     "data": {
      "text/plain": [
       "Segment 0    16833.0\n",
       "Segment 1    30383.0\n",
       "dtype: float64"
      ]
     },
     "execution_count": 185,
     "metadata": {},
     "output_type": "execute_result"
    }
   ],
   "source": [
    "true_centers.sum(axis=1)"
   ]
  },
  {
   "cell_type": "markdown",
   "metadata": {},
   "source": [
    "### 通过各category的比例看顾客类别的不同"
   ]
  },
  {
   "cell_type": "code",
   "execution_count": 189,
   "metadata": {
    "collapsed": false
   },
   "outputs": [
    {
     "data": {
      "text/plain": [
       "Fresh               0.554981\n",
       "Milk                0.114240\n",
       "Grocery             0.148399\n",
       "Frozen              0.124042\n",
       "Detergents_Paper    0.018535\n",
       "Delicassen          0.039803\n",
       "Name: Segment 0, dtype: float64"
      ]
     },
     "execution_count": 189,
     "metadata": {},
     "output_type": "execute_result"
    }
   ],
   "source": [
    "true_centers.ix[0]/16833.0"
   ]
  },
  {
   "cell_type": "code",
   "execution_count": 190,
   "metadata": {
    "collapsed": false
   },
   "outputs": [
    {
     "data": {
      "text/plain": [
       "Fresh               0.121219\n",
       "Milk                0.260475\n",
       "Grocery             0.400783\n",
       "Frozen              0.029227\n",
       "Detergents_Paper    0.154725\n",
       "Delicassen          0.033571\n",
       "Name: Segment 1, dtype: float64"
      ]
     },
     "execution_count": 190,
     "metadata": {},
     "output_type": "execute_result"
    }
   ],
   "source": [
    "true_centers.ix[1]/30383.0"
   ]
  },
  {
   "cell_type": "markdown",
   "metadata": {},
   "source": [
    "把各个数据的分类加进数据集"
   ]
  },
  {
   "cell_type": "code",
   "execution_count": 202,
   "metadata": {
    "collapsed": false
   },
   "outputs": [
    {
     "name": "stdout",
     "output_type": "stream",
     "text": [
      "Sample point 0 predicted to be in Cluster 0\n",
      "Sample point 1 predicted to be in Cluster 1\n",
      "Sample point 2 predicted to be in Cluster 0\n"
     ]
    }
   ],
   "source": [
    "# Display the predictions\n",
    "for i, pred in enumerate(sample_preds):\n",
    "    print \"Sample point\", i, \"predicted to be in Cluster\", pred"
   ]
  },
  {
   "cell_type": "code",
   "execution_count": 204,
   "metadata": {
    "collapsed": false
   },
   "outputs": [
    {
     "data": {
      "text/plain": [
       "array([0, 1, 0], dtype=int32)"
      ]
     },
     "execution_count": 204,
     "metadata": {},
     "output_type": "execute_result"
    }
   ],
   "source": [
    "sample_preds"
   ]
  },
  {
   "cell_type": "code",
   "execution_count": 205,
   "metadata": {
    "collapsed": false
   },
   "outputs": [],
   "source": [
    "samples['Segment'] = sample_preds"
   ]
  },
  {
   "cell_type": "code",
   "execution_count": 206,
   "metadata": {
    "collapsed": false
   },
   "outputs": [
    {
     "data": {
      "text/html": [
       "<div>\n",
       "<table border=\"1\" class=\"dataframe\">\n",
       "  <thead>\n",
       "    <tr style=\"text-align: right;\">\n",
       "      <th></th>\n",
       "      <th>Fresh</th>\n",
       "      <th>Milk</th>\n",
       "      <th>Grocery</th>\n",
       "      <th>Frozen</th>\n",
       "      <th>Detergents_Paper</th>\n",
       "      <th>Delicassen</th>\n",
       "      <th>Segment</th>\n",
       "    </tr>\n",
       "  </thead>\n",
       "  <tbody>\n",
       "    <tr>\n",
       "      <th>0</th>\n",
       "      <td>16225</td>\n",
       "      <td>1825</td>\n",
       "      <td>1765</td>\n",
       "      <td>853</td>\n",
       "      <td>170</td>\n",
       "      <td>1067</td>\n",
       "      <td>0</td>\n",
       "    </tr>\n",
       "    <tr>\n",
       "      <th>1</th>\n",
       "      <td>3067</td>\n",
       "      <td>13240</td>\n",
       "      <td>23127</td>\n",
       "      <td>3941</td>\n",
       "      <td>9959</td>\n",
       "      <td>731</td>\n",
       "      <td>1</td>\n",
       "    </tr>\n",
       "    <tr>\n",
       "      <th>2</th>\n",
       "      <td>3191</td>\n",
       "      <td>1993</td>\n",
       "      <td>1799</td>\n",
       "      <td>1730</td>\n",
       "      <td>234</td>\n",
       "      <td>710</td>\n",
       "      <td>0</td>\n",
       "    </tr>\n",
       "  </tbody>\n",
       "</table>\n",
       "</div>"
      ],
      "text/plain": [
       "   Fresh   Milk  Grocery  Frozen  Detergents_Paper  Delicassen  Segment\n",
       "0  16225   1825     1765     853               170        1067        0\n",
       "1   3067  13240    23127    3941              9959         731        1\n",
       "2   3191   1993     1799    1730               234         710        0"
      ]
     },
     "execution_count": 206,
     "metadata": {},
     "output_type": "execute_result"
    }
   ],
   "source": [
    "samples"
   ]
  },
  {
   "cell_type": "markdown",
   "metadata": {},
   "source": [
    "Q10:\n",
    "If the wholesale distributor is considering changing its delivery service from currently 5 days a week to 3 days a week, Segment 0 will react negatively, since Fresh is their most purchasing part, and it requires to be fresh, so the delivery should be in time."
   ]
  },
  {
   "cell_type": "markdown",
   "metadata": {},
   "source": [
    "Q11:\n",
    "The 'customer segment' driven by clustering algorithm can now be a label, if there are 10 new customers with data describing their annual spending of each product category, we can choose a supervised learner to train the origin customers' spendings and segments, then predict new customers' segments."
   ]
  },
  {
   "cell_type": "code",
   "execution_count": 196,
   "metadata": {
    "collapsed": false
   },
   "outputs": [
    {
     "data": {
      "text/plain": [
       "array([[-1.98360377,  0.11375447],\n",
       "       [ 2.91701208,  0.59289732],\n",
       "       [-1.54459101, -0.73854262]])"
      ]
     },
     "execution_count": 196,
     "metadata": {},
     "output_type": "execute_result"
    }
   ],
   "source": [
    "pca_samples"
   ]
  },
  {
   "cell_type": "markdown",
   "metadata": {},
   "source": [
    "### Visualizing Underlying Distributions\n",
    "By reintroducing the 'Channel' feature to the dataset, an interesting structure emerges when considering the same PCA dimensionality reduction applied earlier to the original dataset."
   ]
  },
  {
   "cell_type": "code",
   "execution_count": 199,
   "metadata": {
    "collapsed": false
   },
   "outputs": [
    {
     "data": {
      "image/png": "[encoded data removed]",
      "text/plain": [
       "<matplotlib.figure.Figure at 0x11d61a2d0>"
      ]
     },
     "metadata": {},
     "output_type": "display_data"
    }
   ],
   "source": [
    "channel_results(reduced_data, outliers, pca_samples)"
   ]
  },
  {
   "cell_type": "code",
   "execution_count": null,
   "metadata": {
    "collapsed": true
   },
   "outputs": [],
   "source": []
  }
 ],
 "metadata": {
  "kernelspec": {
   "display_name": "Python 2",
   "language": "python",
   "name": "python2"
  },
  "language_info": {
   "codemirror_mode": {
    "name": "ipython",
    "version": 2
   },
   "file_extension": ".py",
   "mimetype": "text/x-python",
   "name": "python",
   "nbconvert_exporter": "python",
   "pygments_lexer": "ipython2",
   "version": "2.7.12"
  }
 },
 "nbformat": 4,
 "nbformat_minor": 0
}
